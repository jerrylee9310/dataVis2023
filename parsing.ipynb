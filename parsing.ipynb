{
 "cells": [
  {
   "cell_type": "markdown",
   "metadata": {},
   "source": [
    "For glimpse of data & parsing the raw data to target format."
   ]
  },
  {
   "cell_type": "code",
   "execution_count": 1,
   "metadata": {},
   "outputs": [],
   "source": [
    "import pandas as pd\n",
    "import numpy as np\n",
    "from tqdm import tqdm\n",
    "import seaborn as sns\n",
    "import matplotlib.pyplot as plt; plt.style.use(\"seaborn-white\")"
   ]
  },
  {
   "cell_type": "markdown",
   "metadata": {},
   "source": [
    "# all"
   ]
  },
  {
   "cell_type": "code",
   "execution_count": 7,
   "metadata": {},
   "outputs": [
    {
     "name": "stderr",
     "output_type": "stream",
     "text": [
      "100%|██████████| 999/999 [00:53<00:00, 18.65it/s]\n"
     ]
    }
   ],
   "source": [
    "df = pd.DataFrame(columns=[\"id\", \"time\", \"longitude\", \"latitude\"])\n",
    "# for id in tqdm(range(1, 10360)):\n",
    "for id in tqdm(range(1, 1000)):\n",
    "    fn = f\"/data/jerrylee/study/visualize_2023_fall/term_pjt/data/taxi_log/{id}.txt\" \n",
    "    try:\n",
    "        df_tmp = pd.read_csv(fn,header=None)\n",
    "        df_tmp.columns = [\"id\", \"time\", \"longitude\", \"latitude\"]\n",
    "        df = pd.concat([df, df_tmp], axis=0)\n",
    "    except:\n",
    "        pass"
   ]
  },
  {
   "cell_type": "code",
   "execution_count": 8,
   "metadata": {},
   "outputs": [
    {
     "data": {
      "text/plain": [
       "(115.95999, 117.12288339999999)"
      ]
     },
     "execution_count": 8,
     "metadata": {},
     "output_type": "execute_result"
    }
   ],
   "source": [
    "df[\"longitude\"].quantile(0.01), df[\"longitude\"].quantile(0.99)"
   ]
  },
  {
   "cell_type": "code",
   "execution_count": 9,
   "metadata": {},
   "outputs": [
    {
     "data": {
      "text/plain": [
       "(39.5910383, 40.40394)"
      ]
     },
     "execution_count": 9,
     "metadata": {},
     "output_type": "execute_result"
    }
   ],
   "source": [
    "df[\"latitude\"].quantile(0.01), df[\"latitude\"].quantile(0.99)"
   ]
  },
  {
   "cell_type": "code",
   "execution_count": 14,
   "metadata": {},
   "outputs": [
    {
     "data": {
      "text/plain": [
       "<AxesSubplot:>"
      ]
     },
     "execution_count": 14,
     "metadata": {},
     "output_type": "execute_result"
    },
    {
     "data": {
      "image/png": "[encoded data removed]",
      "text/plain": [
       "<Figure size 432x288 with 1 Axes>"
      ]
     },
     "metadata": {},
     "output_type": "display_data"
    }
   ],
   "source": [
    "df[\"longitude\"].hist(bins=100)\n",
    "df[\"latitude\"].hist(bins=100)"
   ]
  },
  {
   "cell_type": "markdown",
   "metadata": {},
   "source": [
    "# by id"
   ]
  },
  {
   "cell_type": "code",
   "execution_count": 4,
   "metadata": {},
   "outputs": [
    {
     "name": "stderr",
     "output_type": "stream",
     "text": [
      "  0%|          | 0/49 [00:00<?, ?it/s]\n"
     ]
    }
   ],
   "source": [
    "cols = [\"time\", \"long\", \"lat\"]\n",
    "df = pd.DataFrame(columns=[\"id\"] + [f\"before_{col}\" for col in cols] + [f\"after_{col}\" for col in cols])\n",
    "\n",
    "# for id in tqdm(range(1, 10360)):\n",
    "for id in tqdm(range(1, 50)):\n",
    "    fn = f\"/data/jerrylee/study/visualize_2023_fall/term_pjt/data/taxi_log/{id}.txt\" \n",
    "    try:\n",
    "        df_tmp = pd.read_csv(fn,\n",
    "                        header=None)\n",
    "        df_tmp.columns = [\"id\", \"time\", \"long\", \"lat\"]\n",
    "        \n",
    "        # within major region\n",
    "        cond_long = (df_tmp[\"long\"] >= 100) & (df_tmp[\"long\"] < 125)\n",
    "        cond_lat = (df_tmp[\"lat\"] >= 25) & (df_tmp[\"lat\"] < 50)\n",
    "        df_tmp = df_tmp[cond_long & cond_lat]\n",
    "        \n",
    "        # Sort DataFrame by 'id' and 'date'\n",
    "\n",
    "        # Shift the DataFrame to create \"before_\" and \"after_\" columns\n",
    "        df_before = df_tmp.shift(1)\n",
    "        df_after = df_tmp.shift(-1)\n",
    "\n",
    "        # Rename columns with \"before_\" and \"after_\" prefixes\n",
    "        df_before.columns = [f'before_{col}' for col in df_before.columns]\n",
    "        df_after.columns = [f'after_{col}' for col in df_after.columns]\n",
    "\n",
    "        # Concatenate the DataFrames horizontally\n",
    "        result_df = pd.concat([df_before, df_after], axis=1)\n",
    "        result_df = result_df.drop(columns=[\"before_id\", \"after_id\"])\n",
    "        result_df[\"id\"] = id\n",
    "        \n",
    "        # Drop NaN rows resulting from shifting\n",
    "        result_df = result_df.dropna().reset_index(drop=True)\n",
    "\n",
    "        # Display the result\n",
    "        df = pd.concat([df, result_df], axis=0)\n",
    "    except:\n",
    "        pass\n",
    "    break"
   ]
  },
  {
   "cell_type": "code",
   "execution_count": null,
   "metadata": {},
   "outputs": [],
   "source": []
  },
  {
   "cell_type": "code",
   "execution_count": 6,
   "metadata": {},
   "outputs": [
    {
     "data": {
      "text/html": [
       "<div>\n",
       "<style scoped>\n",
       "    .dataframe tbody tr th:only-of-type {\n",
       "        vertical-align: middle;\n",
       "    }\n",
       "\n",
       "    .dataframe tbody tr th {\n",
       "        vertical-align: top;\n",
       "    }\n",
       "\n",
       "    .dataframe thead th {\n",
       "        text-align: right;\n",
       "    }\n",
       "</style>\n",
       "<table border=\"1\" class=\"dataframe\">\n",
       "  <thead>\n",
       "    <tr style=\"text-align: right;\">\n",
       "      <th></th>\n",
       "      <th>id</th>\n",
       "      <th>time</th>\n",
       "      <th>long</th>\n",
       "      <th>lat</th>\n",
       "    </tr>\n",
       "  </thead>\n",
       "  <tbody>\n",
       "    <tr>\n",
       "      <th>0</th>\n",
       "      <td>1</td>\n",
       "      <td>2008-02-02 15:36:08</td>\n",
       "      <td>116.51172</td>\n",
       "      <td>39.92123</td>\n",
       "    </tr>\n",
       "    <tr>\n",
       "      <th>1</th>\n",
       "      <td>1</td>\n",
       "      <td>2008-02-02 15:46:08</td>\n",
       "      <td>116.51135</td>\n",
       "      <td>39.93883</td>\n",
       "    </tr>\n",
       "    <tr>\n",
       "      <th>2</th>\n",
       "      <td>1</td>\n",
       "      <td>2008-02-02 15:46:08</td>\n",
       "      <td>116.51135</td>\n",
       "      <td>39.93883</td>\n",
       "    </tr>\n",
       "    <tr>\n",
       "      <th>3</th>\n",
       "      <td>1</td>\n",
       "      <td>2008-02-02 15:56:08</td>\n",
       "      <td>116.51627</td>\n",
       "      <td>39.91034</td>\n",
       "    </tr>\n",
       "    <tr>\n",
       "      <th>4</th>\n",
       "      <td>1</td>\n",
       "      <td>2008-02-02 16:06:08</td>\n",
       "      <td>116.47186</td>\n",
       "      <td>39.91248</td>\n",
       "    </tr>\n",
       "    <tr>\n",
       "      <th>...</th>\n",
       "      <td>...</td>\n",
       "      <td>...</td>\n",
       "      <td>...</td>\n",
       "      <td>...</td>\n",
       "    </tr>\n",
       "    <tr>\n",
       "      <th>583</th>\n",
       "      <td>1</td>\n",
       "      <td>2008-02-08 15:11:31</td>\n",
       "      <td>116.48347</td>\n",
       "      <td>39.91954</td>\n",
       "    </tr>\n",
       "    <tr>\n",
       "      <th>584</th>\n",
       "      <td>1</td>\n",
       "      <td>2008-02-08 15:21:31</td>\n",
       "      <td>116.50789</td>\n",
       "      <td>39.93128</td>\n",
       "    </tr>\n",
       "    <tr>\n",
       "      <th>585</th>\n",
       "      <td>1</td>\n",
       "      <td>2008-02-08 15:31:31</td>\n",
       "      <td>116.53174</td>\n",
       "      <td>39.91536</td>\n",
       "    </tr>\n",
       "    <tr>\n",
       "      <th>586</th>\n",
       "      <td>1</td>\n",
       "      <td>2008-02-08 15:41:31</td>\n",
       "      <td>116.57156</td>\n",
       "      <td>39.90263</td>\n",
       "    </tr>\n",
       "    <tr>\n",
       "      <th>587</th>\n",
       "      <td>1</td>\n",
       "      <td>2008-02-08 15:51:31</td>\n",
       "      <td>116.54723</td>\n",
       "      <td>39.90841</td>\n",
       "    </tr>\n",
       "  </tbody>\n",
       "</table>\n",
       "<p>588 rows × 4 columns</p>\n",
       "</div>"
      ],
      "text/plain": [
       "     id                 time       long       lat\n",
       "0     1  2008-02-02 15:36:08  116.51172  39.92123\n",
       "1     1  2008-02-02 15:46:08  116.51135  39.93883\n",
       "2     1  2008-02-02 15:46:08  116.51135  39.93883\n",
       "3     1  2008-02-02 15:56:08  116.51627  39.91034\n",
       "4     1  2008-02-02 16:06:08  116.47186  39.91248\n",
       "..   ..                  ...        ...       ...\n",
       "583   1  2008-02-08 15:11:31  116.48347  39.91954\n",
       "584   1  2008-02-08 15:21:31  116.50789  39.93128\n",
       "585   1  2008-02-08 15:31:31  116.53174  39.91536\n",
       "586   1  2008-02-08 15:41:31  116.57156  39.90263\n",
       "587   1  2008-02-08 15:51:31  116.54723  39.90841\n",
       "\n",
       "[588 rows x 4 columns]"
      ]
     },
     "execution_count": 6,
     "metadata": {},
     "output_type": "execute_result"
    }
   ],
   "source": [
    "df_tmp"
   ]
  },
  {
   "cell_type": "code",
   "execution_count": null,
   "metadata": {},
   "outputs": [],
   "source": [
    "# 2~3 A traffic flow\n",
    "# 2~3사이에 A에서 출발한 모든 차\n",
    "# 2~3사이에 A로 도착한 모든 차\n",
    "# 2 ack -> Z ||\n",
    "# A -> Z || 2~2:10 A "
   ]
  },
  {
   "cell_type": "code",
   "execution_count": 5,
   "metadata": {},
   "outputs": [
    {
     "data": {
      "text/html": [
       "<div>\n",
       "<style scoped>\n",
       "    .dataframe tbody tr th:only-of-type {\n",
       "        vertical-align: middle;\n",
       "    }\n",
       "\n",
       "    .dataframe tbody tr th {\n",
       "        vertical-align: top;\n",
       "    }\n",
       "\n",
       "    .dataframe thead th {\n",
       "        text-align: right;\n",
       "    }\n",
       "</style>\n",
       "<table border=\"1\" class=\"dataframe\">\n",
       "  <thead>\n",
       "    <tr style=\"text-align: right;\">\n",
       "      <th></th>\n",
       "      <th>before_time</th>\n",
       "      <th>before_long</th>\n",
       "      <th>before_lat</th>\n",
       "      <th>after_time</th>\n",
       "      <th>after_long</th>\n",
       "      <th>after_lat</th>\n",
       "      <th>id</th>\n",
       "    </tr>\n",
       "  </thead>\n",
       "  <tbody>\n",
       "    <tr>\n",
       "      <th>0</th>\n",
       "      <td>2008-02-02 15:36:08</td>\n",
       "      <td>116.51172</td>\n",
       "      <td>39.92123</td>\n",
       "      <td>2008-02-02 15:46:08</td>\n",
       "      <td>116.51135</td>\n",
       "      <td>39.93883</td>\n",
       "      <td>1</td>\n",
       "    </tr>\n",
       "    <tr>\n",
       "      <th>1</th>\n",
       "      <td>2008-02-02 15:46:08</td>\n",
       "      <td>116.51135</td>\n",
       "      <td>39.93883</td>\n",
       "      <td>2008-02-02 15:56:08</td>\n",
       "      <td>116.51627</td>\n",
       "      <td>39.91034</td>\n",
       "      <td>1</td>\n",
       "    </tr>\n",
       "    <tr>\n",
       "      <th>2</th>\n",
       "      <td>2008-02-02 15:46:08</td>\n",
       "      <td>116.51135</td>\n",
       "      <td>39.93883</td>\n",
       "      <td>2008-02-02 16:06:08</td>\n",
       "      <td>116.47186</td>\n",
       "      <td>39.91248</td>\n",
       "      <td>1</td>\n",
       "    </tr>\n",
       "    <tr>\n",
       "      <th>3</th>\n",
       "      <td>2008-02-02 15:56:08</td>\n",
       "      <td>116.51627</td>\n",
       "      <td>39.91034</td>\n",
       "      <td>2008-02-02 16:16:08</td>\n",
       "      <td>116.47217</td>\n",
       "      <td>39.92498</td>\n",
       "      <td>1</td>\n",
       "    </tr>\n",
       "    <tr>\n",
       "      <th>4</th>\n",
       "      <td>2008-02-02 16:06:08</td>\n",
       "      <td>116.47186</td>\n",
       "      <td>39.91248</td>\n",
       "      <td>2008-02-02 16:26:08</td>\n",
       "      <td>116.47179</td>\n",
       "      <td>39.90718</td>\n",
       "      <td>1</td>\n",
       "    </tr>\n",
       "    <tr>\n",
       "      <th>...</th>\n",
       "      <td>...</td>\n",
       "      <td>...</td>\n",
       "      <td>...</td>\n",
       "      <td>...</td>\n",
       "      <td>...</td>\n",
       "      <td>...</td>\n",
       "      <td>...</td>\n",
       "    </tr>\n",
       "    <tr>\n",
       "      <th>581</th>\n",
       "      <td>2008-02-08 14:51:32</td>\n",
       "      <td>116.40047</td>\n",
       "      <td>39.92594</td>\n",
       "      <td>2008-02-08 15:11:31</td>\n",
       "      <td>116.48347</td>\n",
       "      <td>39.91954</td>\n",
       "      <td>1</td>\n",
       "    </tr>\n",
       "    <tr>\n",
       "      <th>582</th>\n",
       "      <td>2008-02-08 15:01:31</td>\n",
       "      <td>116.44152</td>\n",
       "      <td>39.93236</td>\n",
       "      <td>2008-02-08 15:21:31</td>\n",
       "      <td>116.50789</td>\n",
       "      <td>39.93128</td>\n",
       "      <td>1</td>\n",
       "    </tr>\n",
       "    <tr>\n",
       "      <th>583</th>\n",
       "      <td>2008-02-08 15:11:31</td>\n",
       "      <td>116.48347</td>\n",
       "      <td>39.91954</td>\n",
       "      <td>2008-02-08 15:31:31</td>\n",
       "      <td>116.53174</td>\n",
       "      <td>39.91536</td>\n",
       "      <td>1</td>\n",
       "    </tr>\n",
       "    <tr>\n",
       "      <th>584</th>\n",
       "      <td>2008-02-08 15:21:31</td>\n",
       "      <td>116.50789</td>\n",
       "      <td>39.93128</td>\n",
       "      <td>2008-02-08 15:41:31</td>\n",
       "      <td>116.57156</td>\n",
       "      <td>39.90263</td>\n",
       "      <td>1</td>\n",
       "    </tr>\n",
       "    <tr>\n",
       "      <th>585</th>\n",
       "      <td>2008-02-08 15:31:31</td>\n",
       "      <td>116.53174</td>\n",
       "      <td>39.91536</td>\n",
       "      <td>2008-02-08 15:51:31</td>\n",
       "      <td>116.54723</td>\n",
       "      <td>39.90841</td>\n",
       "      <td>1</td>\n",
       "    </tr>\n",
       "  </tbody>\n",
       "</table>\n",
       "<p>586 rows × 7 columns</p>\n",
       "</div>"
      ],
      "text/plain": [
       "             before_time  before_long  before_lat           after_time  \\\n",
       "0    2008-02-02 15:36:08    116.51172    39.92123  2008-02-02 15:46:08   \n",
       "1    2008-02-02 15:46:08    116.51135    39.93883  2008-02-02 15:56:08   \n",
       "2    2008-02-02 15:46:08    116.51135    39.93883  2008-02-02 16:06:08   \n",
       "3    2008-02-02 15:56:08    116.51627    39.91034  2008-02-02 16:16:08   \n",
       "4    2008-02-02 16:06:08    116.47186    39.91248  2008-02-02 16:26:08   \n",
       "..                   ...          ...         ...                  ...   \n",
       "581  2008-02-08 14:51:32    116.40047    39.92594  2008-02-08 15:11:31   \n",
       "582  2008-02-08 15:01:31    116.44152    39.93236  2008-02-08 15:21:31   \n",
       "583  2008-02-08 15:11:31    116.48347    39.91954  2008-02-08 15:31:31   \n",
       "584  2008-02-08 15:21:31    116.50789    39.93128  2008-02-08 15:41:31   \n",
       "585  2008-02-08 15:31:31    116.53174    39.91536  2008-02-08 15:51:31   \n",
       "\n",
       "     after_long  after_lat  id  \n",
       "0     116.51135   39.93883   1  \n",
       "1     116.51627   39.91034   1  \n",
       "2     116.47186   39.91248   1  \n",
       "3     116.47217   39.92498   1  \n",
       "4     116.47179   39.90718   1  \n",
       "..          ...        ...  ..  \n",
       "581   116.48347   39.91954   1  \n",
       "582   116.50789   39.93128   1  \n",
       "583   116.53174   39.91536   1  \n",
       "584   116.57156   39.90263   1  \n",
       "585   116.54723   39.90841   1  \n",
       "\n",
       "[586 rows x 7 columns]"
      ]
     },
     "execution_count": 5,
     "metadata": {},
     "output_type": "execute_result"
    }
   ],
   "source": [
    "result_df"
   ]
  },
  {
   "cell_type": "code",
   "execution_count": 3,
   "metadata": {},
   "outputs": [],
   "source": [
    "df.to_csv(\"/data/jerrylee/study/visualize_2023_fall/term_pjt/data/taxi.csv\",\n",
    "          index=False)"
   ]
  },
  {
   "cell_type": "code",
   "execution_count": null,
   "metadata": {},
   "outputs": [],
   "source": []
  }
 ],
 "metadata": {
  "kernelspec": {
   "display_name": "base",
   "language": "python",
   "name": "python3"
  },
  "language_info": {
   "codemirror_mode": {
    "name": "ipython",
    "version": 3
   },
   "file_extension": ".py",
   "mimetype": "text/x-python",
   "name": "python",
   "nbconvert_exporter": "python",
   "pygments_lexer": "ipython3",
   "version": "3.9.5"
  }
 },
 "nbformat": 4,
 "nbformat_minor": 2
}
